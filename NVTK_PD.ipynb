{
 "cells": [
  {
   "cell_type": "code",
   "execution_count": null,
   "id": "9df5a80e-3a3b-4c00-976f-234fa01c66c4",
   "metadata": {},
   "outputs": [],
   "source": [
    "import lightgbm as lgb\n",
    "import numpy as np\n",
    "# Import the plotting library\n",
    "import matplotlib.pyplot as plt\n",
    "%matplotlib inline\n",
    "from alpha_vantage.timeseries import TimeSeries\n",
    "from alpha_vantage.techindicators import TechIndicators\n",
    "from matplotlib.pyplot import figure\n",
    "\n",
    "# Initiate aplha key\n",
    "key = 'QYBMXABBJA6K4OH7'\n",
    "ts = TimeSeries(key, output_format = 'pandas')\n",
    "ti = TechIndicators(key)\n",
    "\n",
    "# get data and sma indicator\n",
    "nvtk_data, nvtk_meta_data = ts.get_daily(symbol = 'AAPL')\n",
    "nvtk_sma, nvtk_meta_sma = ti.get_sma(symbol = 'AAPL')\n",
    "\n",
    "#visualization\n",
    "figure(num=None, figsize = (16,5), dpi = 80, facecolor = \"w\", edgecolor = 'k')\n",
    "nvtk_data['4. close'].plot()\n",
    "plt.tight_layout()\n",
    "plt.grid()\n",
    "plt.show()"
   ]
  }
 ],
 "metadata": {
  "kernelspec": {
   "display_name": "Python 3 (ipykernel)",
   "language": "python",
   "name": "python3"
  },
  "language_info": {
   "codemirror_mode": {
    "name": "ipython",
    "version": 3
   },
   "file_extension": ".py",
   "mimetype": "text/x-python",
   "name": "python",
   "nbconvert_exporter": "python",
   "pygments_lexer": "ipython3",
   "version": "3.10.4"
  }
 },
 "nbformat": 4,
 "nbformat_minor": 5
}
